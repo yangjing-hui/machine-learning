{
 "cells": [
  {
   "cell_type": "code",
   "execution_count": 23,
   "metadata": {},
   "outputs": [],
   "source": [
    "import matplotlib.pyplot as plt\n",
    "import pandas as pd\n",
    "from sklearn.model_selection import train_test_split\n",
    "from sklearn.linear_model import LogisticRegression"
   ]
  },
  {
   "cell_type": "code",
   "execution_count": 24,
   "metadata": {},
   "outputs": [],
   "source": [
    "data=pd.read_csv(\"train.csv\")   \n",
    "titanic_data = pd.read_csv('test.csv')"
   ]
  },
  {
   "cell_type": "code",
   "execution_count": 25,
   "metadata": {},
   "outputs": [
    {
     "name": "stdout",
     "output_type": "stream",
     "text": [
      "         Survived      Pclass         Age       SibSp       Parch        Fare\n",
      "count  891.000000  891.000000  891.000000  891.000000  891.000000  891.000000\n",
      "mean     0.383838    2.308642    0.367921    0.523008    0.381594    0.062858\n",
      "std      0.486592    0.836071    0.163383    1.102743    0.806057    0.096995\n",
      "min      0.000000    1.000000    0.000000    0.000000    0.000000    0.000000\n",
      "25%      0.000000    2.000000    0.271174    0.000000    0.000000    0.015440\n",
      "50%      0.000000    3.000000    0.367921    0.000000    0.000000    0.028213\n",
      "75%      1.000000    3.000000    0.434531    1.000000    0.000000    0.060508\n",
      "max      1.000000    3.000000    1.000000    8.000000    6.000000    1.000000\n",
      "           Pclass         Age       SibSp       Parch        Fare\n",
      "count  418.000000  418.000000  418.000000  418.000000  418.000000\n",
      "mean     2.265550    0.396975    0.447368    0.392344    0.069540\n",
      "std      0.841838    0.166617    0.896760    0.981429    0.108993\n",
      "min      1.000000    0.000000    0.000000    0.000000    0.000000\n",
      "25%      1.000000    0.301068    0.000000    0.000000    0.015412\n",
      "50%      3.000000    0.396975    0.000000    0.000000    0.028213\n",
      "75%      3.000000    0.469207    1.000000    0.000000    0.061484\n",
      "max      3.000000    1.000000    8.000000    9.000000    1.000000\n"
     ]
    }
   ],
   "source": [
    "#删除无关信息,补充缺失信息\n",
    "data.drop(['Name','PassengerId','Ticket','Cabin'],axis=1,inplace=True)\n",
    "data['Age']=data['Age'].fillna(data['Age'].mean())\n",
    "data['Fare']=data['Fare'].fillna(data['Fare'].mean())\n",
    "data['Embarked']=data['Embarked'].fillna(data['Embarked'].value_counts().index[0])\n",
    "\n",
    "titanic_data.drop(['Name','PassengerId','Ticket','Cabin'],axis=1,inplace=True)\n",
    "titanic_data['Age']=titanic_data['Age'].fillna(titanic_data['Age'].mean())\n",
    "titanic_data['Fare']=titanic_data['Fare'].fillna(titanic_data['Fare'].mean())\n",
    "titanic_data['Embarked']=titanic_data['Embarked'].fillna(titanic_data['Embarked'].value_counts().index[0])\n",
    " \n",
    "#将性别与登船港口进行数据转换\n",
    "data.loc[data[\"Sex\"] == \"male\", \"Sex\"] = 0\n",
    "data.loc[data[\"Sex\"] == \"female\", \"Sex\"] = 1\n",
    "\n",
    "titanic_data.loc[titanic_data[\"Sex\"] == \"male\", \"Sex\"] = 0\n",
    "titanic_data.loc[titanic_data[\"Sex\"] == \"female\", \"Sex\"] = 1\n",
    "\n",
    "data[\"Embarked\"] = data[\"Embarked\"].fillna('S')\n",
    "data.loc[data[\"Embarked\"] == \"S\", \"Embarked\"] = 0\n",
    "data.loc[data[\"Embarked\"] == \"C\", \"Embarked\"] = 1\n",
    "data.loc[data[\"Embarked\"] == \"Q\", \"Embarked\"] = 2\n",
    "\n",
    "titanic_data[\"Embarked\"] = titanic_data[\"Embarked\"].fillna('S')\n",
    "titanic_data.loc[titanic_data[\"Embarked\"] == \"S\", \"Embarked\"] = 0\n",
    "titanic_data.loc[titanic_data[\"Embarked\"] == \"C\", \"Embarked\"] = 1\n",
    "titanic_data.loc[titanic_data[\"Embarked\"] == \"Q\", \"Embarked\"] = 2\n",
    "\n",
    "#数据缩放\n",
    "data['Age']=(data['Age']-data['Age'].min()) / (data['Age'].max()-data['Age'].min())\n",
    "data['Fare']=(data['Fare']-data['Fare'].min()) / (data['Fare'].max()-data['Fare'].min())\n",
    "\n",
    "titanic_data['Age']=(titanic_data['Age']-titanic_data['Age'].min()) / (titanic_data['Age'].max()-titanic_data['Age'].min())\n",
    "titanic_data['Fare']=(titanic_data['Fare']-titanic_data['Fare'].min()) / (titanic_data['Fare'].max()-titanic_data['Fare'].min())\n",
    "\n",
    "print(data.describe())\n",
    "print(titanic_data.describe())"
   ]
  },
  {
   "cell_type": "code",
   "execution_count": 26,
   "metadata": {},
   "outputs": [],
   "source": [
    "#划分训练集和测试集，既预留一部分数据(30%),用于评估模型。\n",
    "from sklearn.model_selection import train_test_split\n",
    "X=data.drop('Survived',axis=1)\n",
    "y=data.Survived\n",
    "X_train,X_test,y_train,y_test=train_test_split(X,y,test_size=0.3)"
   ]
  },
  {
   "cell_type": "code",
   "execution_count": 27,
   "metadata": {},
   "outputs": [],
   "source": [
    "from sklearn.linear_model import LogisticRegression\n",
    "model=LogisticRegression()"
   ]
  },
  {
   "cell_type": "code",
   "execution_count": 28,
   "metadata": {},
   "outputs": [
    {
     "name": "stdout",
     "output_type": "stream",
     "text": [
      "训练集准确率：\n",
      " 0.8105939004815409\n",
      "验证集准确率：\n",
      " 0.8022388059701493\n"
     ]
    }
   ],
   "source": [
    "model.fit(X_train,y_train)\n",
    "print('训练集准确率：\\n',model.score(X_train,y_train))\n",
    "print('验证集准确率：\\n',model.score(X_test,y_test))"
   ]
  },
  {
   "cell_type": "code",
   "execution_count": 33,
   "metadata": {},
   "outputs": [
    {
     "name": "stdout",
     "output_type": "stream",
     "text": [
      "[0 0 0 0 1 0 1 0 1 0 0 0 1 0 1 1 0 0 1 1 0 0 1 1 1 0 1 0 0 0 0 0 0 0 0 0 1\n",
      " 1 0 0 0 0 0 1 1 0 0 0 1 0 0 0 1 1 0 0 0 0 0 1 0 0 0 1 0 1 1 0 0 1 1 0 1 1\n",
      " 1 1 0 1 0 1 0 0 0 0 0 0 1 1 1 0 1 0 1 0 1 0 1 0 1 0 1 0 0 0 1 0 0 0 0 0 0\n",
      " 1 1 1 1 0 0 1 0 1 1 0 1 0 0 1 0 1 0 0 0 0 0 0 0 0 0 0 1 0 0 1 0 0 0 0 0 0\n",
      " 0 0 1 0 0 0 0 0 1 1 0 1 1 0 1 0 0 1 0 0 1 1 0 0 0 0 0 1 1 0 1 1 0 0 1 0 1\n",
      " 0 1 0 0 0 0 0 0 0 0 0 1 1 0 1 1 0 0 1 0 1 1 0 1 0 0 0 0 1 0 0 1 0 1 0 1 0\n",
      " 1 0 1 1 0 1 0 0 0 1 0 0 0 0 0 0 1 1 1 1 0 0 0 0 1 0 1 1 1 0 0 0 0 0 0 0 1\n",
      " 0 0 0 1 1 0 0 0 0 1 0 0 0 1 1 0 1 0 0 0 0 1 0 1 1 1 0 0 0 0 0 0 1 0 0 0 0\n",
      " 1 0 0 0 0 0 0 0 1 1 0 0 0 0 0 0 0 1 1 1 0 0 0 0 0 0 0 0 1 0 1 0 0 0 1 0 0\n",
      " 1 0 0 0 0 0 0 0 0 0 1 0 1 0 1 0 1 1 0 0 0 1 0 1 0 0 1 0 1 1 0 1 0 0 1 1 0\n",
      " 0 1 0 0 1 1 0 0 0 0 0 0 1 1 0 1 0 0 0 0 0 1 0 0 0 1 0 1 0 0 1 0 1 0 0 0 0\n",
      " 0 1 1 1 1 1 0 1 0 0 0]\n"
     ]
    }
   ],
   "source": [
    "y_pred=model.predict(X_test)\n",
    "\n",
    "features = ['Pclass', 'Sex', 'Age', 'SibSp', 'Parch', 'Fare', 'Embarked']\n",
    "X = titanic_data[features]\n",
    "pred=model.predict(X)\n",
    "print(pred)"
   ]
  },
  {
   "cell_type": "code",
   "execution_count": 34,
   "metadata": {},
   "outputs": [
    {
     "name": "stdout",
     "output_type": "stream",
     "text": [
      "[[143  18]\n",
      " [ 35  72]]\n"
     ]
    }
   ],
   "source": [
    "from sklearn import metrics\n",
    "print(metrics.confusion_matrix(y_test,y_pred),)"
   ]
  },
  {
   "cell_type": "code",
   "execution_count": 35,
   "metadata": {},
   "outputs": [
    {
     "name": "stdout",
     "output_type": "stream",
     "text": [
      "0.8631508678237649\n"
     ]
    }
   ],
   "source": [
    "#每个样例属于正类的概率值\n",
    "y_pred_prob =model.predict_proba(X_test)\n",
    " \n",
    "#计算ROC曲线\n",
    "fpr,tpr,thresholds = metrics.roc_curve(y_test,y_pred_prob[:,1])\n",
    " \n",
    "#计算AUC值\n",
    "auc1=metrics.auc(fpr,tpr)\n",
    "print(auc1)\n",
    " \n",
    " "
   ]
  },
  {
   "cell_type": "code",
   "execution_count": 32,
   "metadata": {},
   "outputs": [
    {
     "data": {
      "text/plain": [
       "<matplotlib.legend.Legend at 0x1df1bc6d2e0>"
      ]
     },
     "execution_count": 32,
     "metadata": {},
     "output_type": "execute_result"
    },
    {
     "data": {
      "image/png": "[encoded data removed]",
      "text/plain": [
       "<Figure size 640x480 with 1 Axes>"
      ]
     },
     "metadata": {},
     "output_type": "display_data"
    }
   ],
   "source": [
    "import matplotlib.pyplot as plt\n",
    "%matplotlib inline\n",
    " \n",
    "plt.plot(fpr,tpr,lw=2,label='ROC curve(area={:.2f})'.format(auc1))\n",
    "plt.plot([0,1],[0,1],'r--')\n",
    "plt.xlabel('False Positive Rate')\n",
    "plt.ylabel('Frue Positive Rate')\n",
    "plt.title('Receiver opsitive cRatr')\n",
    "plt.legend(loc='lower right')"
   ]
  },
  {
   "cell_type": "code",
   "execution_count": null,
   "metadata": {},
   "outputs": [],
   "source": []
  }
 ],
 "metadata": {
  "kernelspec": {
   "display_name": "base",
   "language": "python",
   "name": "python3"
  },
  "language_info": {
   "codemirror_mode": {
    "name": "ipython",
    "version": 3
   },
   "file_extension": ".py",
   "mimetype": "text/x-python",
   "name": "python",
   "nbconvert_exporter": "python",
   "pygments_lexer": "ipython3",
   "version": "3.9.12"
  }
 },
 "nbformat": 4,
 "nbformat_minor": 2
}
