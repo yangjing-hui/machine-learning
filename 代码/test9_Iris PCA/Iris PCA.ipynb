{
 "cells": [
  {
   "cell_type": "code",
   "execution_count": 19,
   "metadata": {},
   "outputs": [
    {
     "name": "stdout",
     "output_type": "stream",
     "text": [
      "Accuracy without PCA: 1.0\n",
      "Accuracy with PCA: 0.9333333333333333\n"
     ]
    }
   ],
   "source": [
    "from sklearn import datasets\n",
    "from sklearn.model_selection import train_test_split\n",
    "from sklearn.preprocessing import StandardScaler\n",
    "from sklearn.decomposition import PCA\n",
    "from sklearn.neural_network import MLPClassifier\n",
    "from sklearn.metrics import accuracy_score\n",
    "from keras.models import Sequential\n",
    "from keras.layers import Dense\n",
    "from keras.utils import to_categorical\n",
    "from sklearn.datasets import load_iris\n",
    "\n",
    "# 加载鸢尾花数据集\n",
    "iris = load_iris()\n",
    "X = iris.data\n",
    "y = iris.target\n",
    "\n",
    "# 将数据集分为训练集和测试集（7:3比例）\n",
    "X_train, X_test, y_train, y_test = train_test_split(X, y, test_size=0.3, random_state=42)\n",
    "\n",
    "# 数据标准化\n",
    "scaler = StandardScaler()\n",
    "X_train_scaled = scaler.fit_transform(X_train)\n",
    "X_test_scaled = scaler.transform(X_test)\n",
    "\n",
    "# 应用PCA进行特征降维\n",
    "pca = PCA(n_components=2)  # 选择要保留的主成分数量\n",
    "X_train_pca = pca.fit_transform(X_train_scaled)\n",
    "X_test_pca = pca.transform(X_test_scaled)\n",
    "\n",
    "# 建立三层感知器模型（MLP）\n",
    "mlp_with_pca = MLPClassifier(hidden_layer_sizes=(50, 30,5), max_iter=1000, random_state=42)\n",
    "mlp_without_pca = MLPClassifier(hidden_layer_sizes=(50,30,5), max_iter=1000, random_state=42)\n",
    "\n",
    "# 使用PCA降维后的数据进行模型训练\n",
    "mlp_with_pca.fit(X_train_pca, y_train)\n",
    "\n",
    "# 使用原始数据进行模型训练\n",
    "mlp_without_pca.fit(X_train_scaled, y_train)\n",
    "\n",
    "# 预测并评估模型性能\n",
    "y_pred_with_pca = mlp_with_pca.predict(X_test_pca)\n",
    "y_pred_without_pca = mlp_without_pca.predict(X_test_scaled)\n",
    "\n",
    "accuracy_with_pca = accuracy_score(y_test, y_pred_with_pca)\n",
    "accuracy_without_pca = accuracy_score(y_test, y_pred_without_pca)\n",
    "\n",
    "# 打印准确度结果\n",
    "print(\"Accuracy without PCA:\", accuracy_without_pca)\n",
    "print(\"Accuracy with PCA:\", accuracy_with_pca)\n"
   ]
  },
  {
   "cell_type": "code",
   "execution_count": null,
   "metadata": {},
   "outputs": [],
   "source": []
  },
  {
   "cell_type": "code",
   "execution_count": null,
   "metadata": {},
   "outputs": [],
   "source": []
  }
 ],
 "metadata": {
  "kernelspec": {
   "display_name": "Python 3",
   "language": "python",
   "name": "python3"
  },
  "language_info": {
   "codemirror_mode": {
    "name": "ipython",
    "version": 3
   },
   "file_extension": ".py",
   "mimetype": "text/x-python",
   "name": "python",
   "nbconvert_exporter": "python",
   "pygments_lexer": "ipython3",
   "version": "3.9.12"
  }
 },
 "nbformat": 4,
 "nbformat_minor": 2
}
