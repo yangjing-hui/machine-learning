{
 "cells": [
  {
   "cell_type": "code",
   "execution_count": 71,
   "metadata": {},
   "outputs": [],
   "source": [
    "import pandas as pd\n",
    "import numpy as np\n",
    "from sklearn.model_selection import train_test_split, cross_val_score,KFold\n",
    "from sklearn.linear_model import LinearRegression\n",
    "from sklearn import metrics\n",
    "from sklearn.metrics import precision_score, recall_score\n",
    "\n",
    "# 数据集文件名为'winequality-red.csv'和'winequality-white.csv'\n",
    "data1 = pd.read_csv('winequality-red.csv', delimiter=';')\n",
    "data2 = pd.read_csv('winequality-white.csv', delimiter=';')\n",
    "\n",
    "def wine_quality_linear_regression(data):\n",
    "    # 'quality' 列是目标变量\n",
    "    X = data.drop('quality', axis=1)\n",
    "    y = data['quality']\n",
    "\n",
    "    # 创建线性回归模型\n",
    "    model = LinearRegression()\n",
    "\n",
    "    # 设置五重交叉验证\n",
    "    kf = KFold(n_splits=5, shuffle=True, random_state=42)\n",
    "\n",
    "    # 初始化用于存储结果的数组\n",
    "    precision_scores = []\n",
    "    recall_scores = []\n",
    "\n",
    "    # 进行五重交叉验证\n",
    "    for train_index, test_index in kf.split(X):\n",
    "\n",
    "        X_train, X_test = X.iloc[train_index], X.iloc[test_index]\n",
    "        y_train, y_test = y.iloc[train_index], y.iloc[test_index]\n",
    "        \n",
    "        # 训练模型\n",
    "        model.fit(X_train, y_train)\n",
    "\n",
    "        # 预测标签\n",
    "        y_pred = model.predict(X_test)\n",
    "        \n",
    "        # 这里针对十一分类任务，需要将回归输出映射到类别\n",
    "        # 例如，可以将回归值四舍五入或者应用阈值\n",
    "        # 这里假设使用四舍五入作为二分类输出\n",
    "        rounded_predictions = np.round(y_pred)\n",
    "\n",
    "        # 计算精确度和召回率\n",
    "        precision = precision_score(y_test, rounded_predictions, average='weighted',zero_division=1)  # 可以选择其他的average参数，如'micro'或'macro'\n",
    "        recall = recall_score(y_test, rounded_predictions, average='weighted',zero_division=1)  # 同样，可以选择其他的average参数\n",
    "\n",
    "        # 存储结果\n",
    "        precision_scores.append(precision)\n",
    "        recall_scores.append(recall)\n",
    "\n",
    "    # 输出结果\n",
    "    print(f'Precision: {sum(precision_scores) / len(precision_scores)}')\n",
    "    print(f'Recall: {sum(recall_scores) / len(recall_scores)}')\n"
   ]
  },
  {
   "cell_type": "code",
   "execution_count": 72,
   "metadata": {},
   "outputs": [
    {
     "name": "stdout",
     "output_type": "stream",
     "text": [
      "red wine:\n",
      "Precision: 0.597022287028502\n",
      "Recall: 0.5922884012539186\n",
      "white wine:\n",
      "Precision: 0.5407387827233142\n",
      "Recall: 0.5167426153300954\n"
     ]
    }
   ],
   "source": [
    "print(\"red wine:\")\n",
    "wine_quality_linear_regression(data1)\n",
    "print(\"white wine:\")\n",
    "wine_quality_linear_regression(data2)"
   ]
  },
  {
   "cell_type": "code",
   "execution_count": null,
   "metadata": {},
   "outputs": [],
   "source": []
  }
 ],
 "metadata": {
  "kernelspec": {
   "display_name": "base",
   "language": "python",
   "name": "python3"
  },
  "language_info": {
   "codemirror_mode": {
    "name": "ipython",
    "version": 3
   },
   "file_extension": ".py",
   "mimetype": "text/x-python",
   "name": "python",
   "nbconvert_exporter": "python",
   "pygments_lexer": "ipython3",
   "version": "3.9.12"
  }
 },
 "nbformat": 4,
 "nbformat_minor": 2
}
